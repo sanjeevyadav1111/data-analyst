{
 "cells": [
  {
   "cell_type": "code",
   "execution_count": 4,
   "metadata": {},
   "outputs": [
    {
     "name": "stdout",
     "output_type": "stream",
     "text": [
      "    Name   Age  salary\n",
      "0   jhon  25.0  2000.0\n",
      "1  peter  24.0  1000.0\n",
      "2   None   NaN     NaN\n",
      "3   lisa  26.0  5000.0\n"
     ]
    }
   ],
   "source": [
    "import pandas as pd\n",
    "dat ={\"Name\":[\"jhon\",\"peter\",None,\"lisa\"],\n",
    "       \"Age\":[25,24,None,26],\n",
    "       \"salary\":[2000,1000,None,5000]}\n",
    "df=pd.DataFrame(dat)\n",
    "\n",
    "print(df)"
   ]
  },
  {
   "cell_type": "code",
   "execution_count": 14,
   "metadata": {},
   "outputs": [
    {
     "name": "stdout",
     "output_type": "stream",
     "text": [
      "    Name   Age  salary  id  gender\n",
      "0   jhon  25.0  2000.0   1    male\n",
      "1  peter  24.0  1000.0   2  female\n",
      "2   None   NaN     NaN   3  female\n",
      "3   lisa  26.0  5000.0   4    male\n",
      "                     id\n",
      "Name  salary gender    \n",
      "jhon  2000.0 male     1\n",
      "lisa  5000.0 male     1\n",
      "peter 1000.0 female   1\n"
     ]
    }
   ],
   "source": [
    "df['id'] = range(1, len(df) + 1)\n",
    "df[\"gender\"]=[\"male\",\"female\",\"female\",\"male\"]\n",
    "print(df)\n",
    "gp=df.groupby([\"Name\",\"salary\",\"gender\"]).agg({\"id\":\"count\"})\n",
    "print(gp)"
   ]
  },
  {
   "cell_type": "code",
   "execution_count": 16,
   "metadata": {},
   "outputs": [
    {
     "name": "stdout",
     "output_type": "stream",
     "text": [
      "        Age\n",
      "Name       \n",
      "jhon   25.0\n",
      "lisa   26.0\n",
      "peter  24.0\n"
     ]
    }
   ],
   "source": [
    "gp1=df.groupby(\"Name\").agg({\"Age\":\"mean\"})\n",
    "print(gp1)"
   ]
  },
  {
   "cell_type": "code",
   "execution_count": null,
   "metadata": {},
   "outputs": [],
   "source": []
  }
 ],
 "metadata": {
  "kernelspec": {
   "display_name": "Python 3",
   "language": "python",
   "name": "python3"
  },
  "language_info": {
   "codemirror_mode": {
    "name": "ipython",
    "version": 3
   },
   "file_extension": ".py",
   "mimetype": "text/x-python",
   "name": "python",
   "nbconvert_exporter": "python",
   "pygments_lexer": "ipython3",
   "version": "3.13.1"
  }
 },
 "nbformat": 4,
 "nbformat_minor": 2
}
