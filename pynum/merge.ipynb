{
 "cells": [
  {
   "cell_type": "code",
   "execution_count": 3,
   "metadata": {},
   "outputs": [
    {
     "name": "stdout",
     "output_type": "stream",
     "text": [
      "   id   Name   Age\n",
      "0   1   jhon  25.0\n",
      "1   2  peter  24.0\n",
      "2   3   None   NaN\n",
      "3   4   lisa  26.0\n",
      "   id  salary\n",
      "0   1  2000.0\n",
      "1   2  1000.0\n",
      "2   7     NaN\n",
      "3   4  5000.0\n",
      "8000.0\n"
     ]
    }
   ],
   "source": [
    "import pandas as pd\n",
    "dat1 ={\"id\":[1,2,3,4],\n",
    "       \"Name\":[\"jhon\",\"peter\",None,\"lisa\"],\n",
    "       \"Age\":[25,24,None,26],\n",
    "       }\n",
    "dat2={\"id\":[1,2,7,4],\n",
    "      \"salary\":[2000,1000,None,5000]}\n",
    "\n",
    "df1=pd.DataFrame(dat1)\n",
    "df2=pd.DataFrame(dat2)\n",
    "print(df1)\n",
    "print(df2)\n",
    "print(df2[\"salary\"].sum())\n"
   ]
  },
  {
   "cell_type": "code",
   "execution_count": 7,
   "metadata": {},
   "outputs": [
    {
     "name": "stdout",
     "output_type": "stream",
     "text": [
      "   id   Name   Age  salary\n",
      "0   1   jhon  25.0  2000.0\n",
      "1   2  peter  24.0  1000.0\n",
      "2   4   lisa  26.0  5000.0\n"
     ]
    }
   ],
   "source": [
    "print(pd.merge(df1,df2,on=\"id\"))"
   ]
  },
  {
   "cell_type": "code",
   "execution_count": null,
   "metadata": {},
   "outputs": [],
   "source": []
  },
  {
   "cell_type": "code",
   "execution_count": 10,
   "metadata": {},
   "outputs": [
    {
     "name": "stdout",
     "output_type": "stream",
     "text": [
      "   id   Name   Age  salary\n",
      "0   1   jhon  25.0  2000.0\n",
      "1   2  peter  24.0  1000.0\n",
      "2   7    NaN   NaN     NaN\n",
      "3   4   lisa  26.0  5000.0\n",
      "\n",
      "    id   Name   Age  salary\n",
      "0   1   jhon  25.0  2000.0\n",
      "1   2  peter  24.0  1000.0\n",
      "2   3   None   NaN     NaN\n",
      "3   4   lisa  26.0  5000.0\n"
     ]
    }
   ],
   "source": [
    "print(pd.merge(left=df1,right=df2,on=\"id\",how=\"right\"))\n",
    "print(\"\\n\",pd.merge(left=df1,right=df2,on=\"id\",how=\"left\"))\n"
   ]
  },
  {
   "cell_type": "code",
   "execution_count": 11,
   "metadata": {},
   "outputs": [
    {
     "name": "stdout",
     "output_type": "stream",
     "text": [
      "   id   Name   Age\n",
      "0   1   jhon  25.0\n",
      "1   2  peter  24.0\n",
      "2   3   None   NaN\n",
      "3   4   lisa  26.0\n",
      "   id   Name   Age\n",
      "0   5  chotu  22.0\n",
      "1   6   pitu  27.0\n",
      "2   7   None   NaN\n",
      "3   8   luna  21.0\n"
     ]
    }
   ],
   "source": [
    "dat3 ={\"id\":[1,2,3,4],\n",
    "       \"Name\":[\"jhon\",\"peter\",None,\"lisa\"],\n",
    "       \"Age\":[25,24,None,26],\n",
    "       }\n",
    "dat4 ={\"id\":[5,6,7,8],\n",
    "       \"Name\":[\"chotu\",\"pitu\",None,\"luna\"],\n",
    "       \"Age\":[22,27,None,21],\n",
    "       }\n",
    "df3=pd.DataFrame(dat3)\n",
    "df4=pd.DataFrame(dat4)\n",
    "print(df3)\n",
    "print(df4)"
   ]
  },
  {
   "cell_type": "code",
   "execution_count": 12,
   "metadata": {},
   "outputs": [
    {
     "name": "stdout",
     "output_type": "stream",
     "text": [
      "   id   Name   Age\n",
      "0   1   jhon  25.0\n",
      "1   2  peter  24.0\n",
      "2   3   None   NaN\n",
      "3   4   lisa  26.0\n",
      "0   5  chotu  22.0\n",
      "1   6   pitu  27.0\n",
      "2   7   None   NaN\n",
      "3   8   luna  21.0\n"
     ]
    }
   ],
   "source": [
    "print(pd.concat(([df3,df4])))"
   ]
  },
  {
   "cell_type": "code",
   "execution_count": null,
   "metadata": {},
   "outputs": [],
   "source": []
  }
 ],
 "metadata": {
  "kernelspec": {
   "display_name": "Python 3",
   "language": "python",
   "name": "python3"
  },
  "language_info": {
   "codemirror_mode": {
    "name": "ipython",
    "version": 3
   },
   "file_extension": ".py",
   "mimetype": "text/x-python",
   "name": "python",
   "nbconvert_exporter": "python",
   "pygments_lexer": "ipython3",
   "version": "3.13.1"
  }
 },
 "nbformat": 4,
 "nbformat_minor": 2
}
