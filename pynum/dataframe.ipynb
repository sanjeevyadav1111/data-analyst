{
 "cells": [
  {
   "cell_type": "code",
   "execution_count": 2,
   "metadata": {},
   "outputs": [
    {
     "name": "stdout",
     "output_type": "stream",
     "text": [
      "    Name  Age  salary\n",
      "0   jhon   25    2000\n",
      "1  peter   24    1000\n",
      "2   lisa   26    5000\n"
     ]
    }
   ],
   "source": [
    "import pandas as pd\n",
    "data ={\"Name\":[\"jhon\",\"peter\",\"lisa\"],\n",
    "       \"Age\":[25,24,26],\n",
    "       \"salary\":[2000,1000,5000]}\n",
    "df=pd.DataFrame(data)\n",
    "print(df)"
   ]
  },
  {
   "cell_type": "code",
   "execution_count": 13,
   "metadata": {},
   "outputs": [
    {
     "name": "stdout",
     "output_type": "stream",
     "text": [
      "                       Country  Year   Rank  Total  S1: Demographic Pressures  \\\n",
      "0                      Somalia  2023    1st  111.9                       10.0   \n",
      "1                        Yemen  2023    2nd  108.9                        9.6   \n",
      "2                  South Sudan  2023    3rd  108.5                        9.7   \n",
      "3    Congo Democratic Republic  2023    4th  107.2                        9.7   \n",
      "4                        Syria  2023    5th  107.1                        7.4   \n",
      "..                         ...   ...    ...    ...                        ...   \n",
      "174                Switzerland  2023  175th   17.8                        2.4   \n",
      "175                New Zealand  2023  176th   16.7                        1.1   \n",
      "176                    Finland  2023  177th   16.0                        1.7   \n",
      "177                    Iceland  2023  178th   15.7                        1.5   \n",
      "178                     Norway  2023  179th   14.5                        1.4   \n",
      "\n",
      "     S2: Refugees and IDPs  C3: Group Grievance  \\\n",
      "0                      9.0                  8.7   \n",
      "1                      9.6                  8.8   \n",
      "2                     10.0                  8.6   \n",
      "3                      9.8                  9.4   \n",
      "4                      9.1                  9.1   \n",
      "..                     ...                  ...   \n",
      "174                    3.2                  2.1   \n",
      "175                    1.2                  2.0   \n",
      "176                    1.9                  0.3   \n",
      "177                    1.5                  0.5   \n",
      "178                    1.7                  3.1   \n",
      "\n",
      "     E3: Human Flight and Brain Drain  E2: Economic Inequality  E1: Economy  \\\n",
      "0                                 8.6                      9.1          9.5   \n",
      "1                                 6.4                      7.9          9.9   \n",
      "2                                 6.5                      8.6          8.6   \n",
      "3                                 6.4                      8.4          8.1   \n",
      "4                                 8.0                      6.5          9.6   \n",
      "..                                ...                      ...          ...   \n",
      "174                               1.0                      2.4          1.6   \n",
      "175                               1.6                      2.6          2.6   \n",
      "176                               1.5                      1.6          2.7   \n",
      "177                               1.6                      1.5          2.6   \n",
      "178                               0.7                      1.4          1.4   \n",
      "\n",
      "     P1: State Legitimacy  P2: Public Services  P3: Human Rights  \\\n",
      "0                     9.6                  9.8               9.0   \n",
      "1                     9.8                  9.6               9.6   \n",
      "2                     9.8                  9.7               8.7   \n",
      "3                     9.3                  9.3               9.3   \n",
      "4                    10.0                  9.0               9.1   \n",
      "..                    ...                  ...               ...   \n",
      "174                   0.3                  1.6               0.4   \n",
      "175                   0.5                  1.1               0.5   \n",
      "176                   0.4                  1.0               0.5   \n",
      "177                   0.4                  0.9               0.4   \n",
      "178                   0.4                  1.0               0.4   \n",
      "\n",
      "     C1: Security Apparatus  C2: Factionalized Elites  \\\n",
      "0                       9.5                      10.0   \n",
      "1                       8.6                       9.9   \n",
      "2                       9.9                       9.2   \n",
      "3                       8.8                       9.6   \n",
      "4                       9.4                       9.9   \n",
      "..                      ...                       ...   \n",
      "174                     1.4                       1.0   \n",
      "175                     1.6                       1.4   \n",
      "176                     2.0                       1.4   \n",
      "177                     0.4                       1.8   \n",
      "178                     1.4                       1.1   \n",
      "\n",
      "     X1: External Intervention  \n",
      "0                          9.1  \n",
      "1                          9.2  \n",
      "2                          9.2  \n",
      "3                          9.1  \n",
      "4                         10.0  \n",
      "..                         ...  \n",
      "174                        0.4  \n",
      "175                        0.5  \n",
      "176                        1.0  \n",
      "177                        2.6  \n",
      "178                        0.5  \n",
      "\n",
      "[179 rows x 16 columns]\n"
     ]
    }
   ],
   "source": [
    "data=pd.read_excel(\"C:/Users/hp/Downloads/FSI-2023-DOWNLOAD.xlsx\")\n",
    "print(data)"
   ]
  },
  {
   "cell_type": "code",
   "execution_count": 16,
   "metadata": {},
   "outputs": [
    {
     "name": "stdout",
     "output_type": "stream",
     "text": [
      "                     Country  Year Rank  Total  S1: Demographic Pressures  \\\n",
      "0                    Somalia  2023  1st  111.9                       10.0   \n",
      "1                      Yemen  2023  2nd  108.9                        9.6   \n",
      "2                South Sudan  2023  3rd  108.5                        9.7   \n",
      "3  Congo Democratic Republic  2023  4th  107.2                        9.7   \n",
      "\n",
      "   S2: Refugees and IDPs  C3: Group Grievance  \\\n",
      "0                    9.0                  8.7   \n",
      "1                    9.6                  8.8   \n",
      "2                   10.0                  8.6   \n",
      "3                    9.8                  9.4   \n",
      "\n",
      "   E3: Human Flight and Brain Drain  E2: Economic Inequality  E1: Economy  \\\n",
      "0                               8.6                      9.1          9.5   \n",
      "1                               6.4                      7.9          9.9   \n",
      "2                               6.5                      8.6          8.6   \n",
      "3                               6.4                      8.4          8.1   \n",
      "\n",
      "   P1: State Legitimacy  P2: Public Services  P3: Human Rights  \\\n",
      "0                   9.6                  9.8               9.0   \n",
      "1                   9.8                  9.6               9.6   \n",
      "2                   9.8                  9.7               8.7   \n",
      "3                   9.3                  9.3               9.3   \n",
      "\n",
      "   C1: Security Apparatus  C2: Factionalized Elites  X1: External Intervention  \n",
      "0                     9.5                      10.0                        9.1  \n",
      "1                     8.6                       9.9                        9.2  \n",
      "2                     9.9                       9.2                        9.2  \n",
      "3                     8.8                       9.6                        9.1  \n",
      "         Country  Year   Rank  Total  S1: Demographic Pressures  \\\n",
      "175  New Zealand  2023  176th   16.7                        1.1   \n",
      "176      Finland  2023  177th   16.0                        1.7   \n",
      "177      Iceland  2023  178th   15.7                        1.5   \n",
      "178       Norway  2023  179th   14.5                        1.4   \n",
      "\n",
      "     S2: Refugees and IDPs  C3: Group Grievance  \\\n",
      "175                    1.2                  2.0   \n",
      "176                    1.9                  0.3   \n",
      "177                    1.5                  0.5   \n",
      "178                    1.7                  3.1   \n",
      "\n",
      "     E3: Human Flight and Brain Drain  E2: Economic Inequality  E1: Economy  \\\n",
      "175                               1.6                      2.6          2.6   \n",
      "176                               1.5                      1.6          2.7   \n",
      "177                               1.6                      1.5          2.6   \n",
      "178                               0.7                      1.4          1.4   \n",
      "\n",
      "     P1: State Legitimacy  P2: Public Services  P3: Human Rights  \\\n",
      "175                   0.5                  1.1               0.5   \n",
      "176                   0.4                  1.0               0.5   \n",
      "177                   0.4                  0.9               0.4   \n",
      "178                   0.4                  1.0               0.4   \n",
      "\n",
      "     C1: Security Apparatus  C2: Factionalized Elites  \\\n",
      "175                     1.6                       1.4   \n",
      "176                     2.0                       1.4   \n",
      "177                     0.4                       1.8   \n",
      "178                     1.4                       1.1   \n",
      "\n",
      "     X1: External Intervention  \n",
      "175                        0.5  \n",
      "176                        1.0  \n",
      "177                        2.6  \n",
      "178                        0.5  \n"
     ]
    }
   ],
   "source": [
    "print(data.head(4))\n",
    "print(data.tail(4))"
   ]
  },
  {
   "cell_type": "code",
   "execution_count": 18,
   "metadata": {},
   "outputs": [
    {
     "name": "stdout",
     "output_type": "stream",
     "text": [
      "<class 'pandas.core.frame.DataFrame'>\n",
      "RangeIndex: 179 entries, 0 to 178\n",
      "Data columns (total 16 columns):\n",
      " #   Column                            Non-Null Count  Dtype  \n",
      "---  ------                            --------------  -----  \n",
      " 0   Country                           179 non-null    object \n",
      " 1   Year                              179 non-null    int64  \n",
      " 2   Rank                              179 non-null    object \n",
      " 3   Total                             179 non-null    float64\n",
      " 4   S1: Demographic Pressures         179 non-null    float64\n",
      " 5   S2: Refugees and IDPs             179 non-null    float64\n",
      " 6   C3: Group Grievance               179 non-null    float64\n",
      " 7   E3: Human Flight and Brain Drain  179 non-null    float64\n",
      " 8   E2: Economic Inequality           179 non-null    float64\n",
      " 9   E1: Economy                       179 non-null    float64\n",
      " 10  P1: State Legitimacy              179 non-null    float64\n",
      " 11  P2: Public Services               179 non-null    float64\n",
      " 12  P3: Human Rights                  179 non-null    float64\n",
      " 13  C1: Security Apparatus            179 non-null    float64\n",
      " 14  C2: Factionalized Elites          179 non-null    float64\n",
      " 15  X1: External Intervention         179 non-null    float64\n",
      "dtypes: float64(13), int64(1), object(2)\n",
      "memory usage: 22.5+ KB\n",
      "None\n"
     ]
    }
   ],
   "source": [
    "print (data.info())"
   ]
  },
  {
   "cell_type": "code",
   "execution_count": 19,
   "metadata": {},
   "outputs": [
    {
     "name": "stdout",
     "output_type": "stream",
     "text": [
      "<class 'pandas.core.frame.DataFrame'>\n",
      "RangeIndex: 3 entries, 0 to 2\n",
      "Data columns (total 3 columns):\n",
      " #   Column  Non-Null Count  Dtype \n",
      "---  ------  --------------  ----- \n",
      " 0   Name    3 non-null      object\n",
      " 1   Age     3 non-null      int64 \n",
      " 2   salary  3 non-null      int64 \n",
      "dtypes: int64(2), object(1)\n",
      "memory usage: 204.0+ bytes\n",
      "None\n"
     ]
    }
   ],
   "source": [
    "print(df.info())"
   ]
  },
  {
   "cell_type": "code",
   "execution_count": 21,
   "metadata": {},
   "outputs": [
    {
     "name": "stdout",
     "output_type": "stream",
     "text": [
      "         Year       Total  S1: Demographic Pressures  S2: Refugees and IDPs  \\\n",
      "count   179.0  179.000000                 179.000000             179.000000   \n",
      "mean   2023.0   65.832402                   5.955866               4.764246   \n",
      "std       0.0   23.966251                   2.278726               2.373935   \n",
      "min    2023.0   14.500000                   1.100000               0.500000   \n",
      "25%    2023.0   49.000000                   4.100000               2.800000   \n",
      "50%    2023.0   68.200000                   5.900000               4.500000   \n",
      "75%    2023.0   82.200000                   8.050000               6.450000   \n",
      "max    2023.0  111.900000                  10.000000              10.000000   \n",
      "\n",
      "       C3: Group Grievance  E3: Human Flight and Brain Drain  \\\n",
      "count           179.000000                        179.000000   \n",
      "mean              5.574860                          5.184358   \n",
      "std               2.367757                          2.079591   \n",
      "min               0.300000                          0.400000   \n",
      "25%               3.600000                          3.700000   \n",
      "50%               5.500000                          5.600000   \n",
      "75%               7.550000                          6.600000   \n",
      "max               9.700000                         10.000000   \n",
      "\n",
      "       E2: Economic Inequality  E1: Economy  P1: State Legitimacy  \\\n",
      "count               179.000000   179.000000            179.000000   \n",
      "mean                  5.323464     5.687151              5.741341   \n",
      "std                   2.068546     2.200741              2.901853   \n",
      "min                   1.400000     1.000000              0.300000   \n",
      "25%                   3.650000     4.100000              3.650000   \n",
      "50%                   5.200000     6.000000              6.400000   \n",
      "75%                   7.200000     7.150000              8.100000   \n",
      "max                   9.600000     9.900000             10.000000   \n",
      "\n",
      "       P2: Public Services  P3: Human Rights  C1: Security Apparatus  \\\n",
      "count           179.000000        179.000000              179.000000   \n",
      "mean              5.459218          5.436872                5.014525   \n",
      "std               2.581299          2.602588                2.379810   \n",
      "min               0.900000          0.400000                0.300000   \n",
      "25%               3.450000          3.600000                3.350000   \n",
      "50%               5.100000          5.700000                5.100000   \n",
      "75%               7.950000          7.500000                6.700000   \n",
      "max              10.000000          9.900000               10.000000   \n",
      "\n",
      "       C2: Factionalized Elites  X1: External Intervention  \n",
      "count                179.000000                 179.000000  \n",
      "mean                   6.618436                   5.072067  \n",
      "std                    2.427869                   2.577801  \n",
      "min                    1.000000                   0.300000  \n",
      "25%                    4.950000                   3.150000  \n",
      "50%                    7.200000                   5.300000  \n",
      "75%                    8.550000                   7.000000  \n",
      "max                   10.000000                  10.000000  \n"
     ]
    }
   ],
   "source": [
    "print(data.describe())"
   ]
  },
  {
   "cell_type": "code",
   "execution_count": 22,
   "metadata": {},
   "outputs": [
    {
     "name": "stdout",
     "output_type": "stream",
     "text": [
      "        Age       salary\n",
      "count   3.0     3.000000\n",
      "mean   25.0  2666.666667\n",
      "std     1.0  2081.665999\n",
      "min    24.0  1000.000000\n",
      "25%    24.5  1500.000000\n",
      "50%    25.0  2000.000000\n",
      "75%    25.5  3500.000000\n",
      "max    26.0  5000.000000\n"
     ]
    }
   ],
   "source": [
    "print(df.describe())\n"
   ]
  },
  {
   "cell_type": "code",
   "execution_count": null,
   "metadata": {},
   "outputs": [],
   "source": []
  }
 ],
 "metadata": {
  "kernelspec": {
   "display_name": "Python 3",
   "language": "python",
   "name": "python3"
  },
  "language_info": {
   "codemirror_mode": {
    "name": "ipython",
    "version": 3
   },
   "file_extension": ".py",
   "mimetype": "text/x-python",
   "name": "python",
   "nbconvert_exporter": "python",
   "pygments_lexer": "ipython3",
   "version": "3.13.1"
  }
 },
 "nbformat": 4,
 "nbformat_minor": 2
}
