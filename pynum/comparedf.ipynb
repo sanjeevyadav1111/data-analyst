{
 "cells": [
  {
   "cell_type": "code",
   "execution_count": 4,
   "metadata": {},
   "outputs": [
    {
     "name": "stdout",
     "output_type": "stream",
     "text": [
      "    fruit  price  quantity\n",
      "0   mango    100        10\n",
      "1   apple    120        15\n",
      "2  banana     60        20\n",
      "3  papaya     70        13\n"
     ]
    }
   ],
   "source": [
    "import pandas as pd\n",
    "d={\"fruit\":[\"mango\",\"apple\",\"banana\",\"papaya\"],\n",
    "   \"price\":[100,120,60,70],\n",
    "   \"quantity\":[10,15,20,13]}\n",
    "df1=pd.DataFrame(d)\n",
    "print(df1)\n"
   ]
  },
  {
   "cell_type": "code",
   "execution_count": 5,
   "metadata": {},
   "outputs": [
    {
     "name": "stdout",
     "output_type": "stream",
     "text": [
      "    fruit  price  quantity\n",
      "0   mango    100        10\n",
      "1   apple    120        15\n",
      "2  banana     60        20\n",
      "3  papaya     70        13\n"
     ]
    }
   ],
   "source": [
    "df2=df1.copy()\n",
    "print(df2)"
   ]
  },
  {
   "cell_type": "code",
   "execution_count": 6,
   "metadata": {},
   "outputs": [
    {
     "name": "stdout",
     "output_type": "stream",
     "text": [
      "    fruit  price  quantity\n",
      "0   mango    130        13\n",
      "1   apple    140        14\n",
      "2  banana     53        12\n",
      "3  papaya     70        13\n"
     ]
    }
   ],
   "source": [
    "df2.loc[0,\"price\"]=130\n",
    "df2.loc[1,\"price\"]=140\n",
    "df2.loc[2,\"price\"]=53\n",
    "df2.loc[0,\"quantity\"]=13\n",
    "df2.loc[1,\"quantity\"]=14\n",
    "df2.loc[2,\"quantity\"]=12\n",
    "print(df2)"
   ]
  },
  {
   "cell_type": "code",
   "execution_count": 10,
   "metadata": {},
   "outputs": [
    {
     "name": "stdout",
     "output_type": "stream",
     "text": [
      "   price        quantity      \n",
      "    self  other     self other\n",
      "0  100.0  130.0     10.0  13.0\n",
      "1  120.0  140.0     15.0  14.0\n",
      "2   60.0   53.0     20.0  12.0\n"
     ]
    }
   ],
   "source": [
    "\n",
    "print(df1.compare(df2,align_axis=1))"
   ]
  },
  {
   "cell_type": "code",
   "execution_count": null,
   "metadata": {},
   "outputs": [],
   "source": []
  },
  {
   "cell_type": "code",
   "execution_count": null,
   "metadata": {},
   "outputs": [],
   "source": []
  },
  {
   "cell_type": "code",
   "execution_count": null,
   "metadata": {},
   "outputs": [],
   "source": []
  },
  {
   "cell_type": "code",
   "execution_count": null,
   "metadata": {},
   "outputs": [],
   "source": []
  }
 ],
 "metadata": {
  "kernelspec": {
   "display_name": "Python 3",
   "language": "python",
   "name": "python3"
  },
  "language_info": {
   "codemirror_mode": {
    "name": "ipython",
    "version": 3
   },
   "file_extension": ".py",
   "mimetype": "text/x-python",
   "name": "python",
   "nbconvert_exporter": "python",
   "pygments_lexer": "ipython3",
   "version": "3.13.1"
  }
 },
 "nbformat": 4,
 "nbformat_minor": 2
}
